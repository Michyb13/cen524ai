{
  "nbformat": 4,
  "nbformat_minor": 0,
  "metadata": {
    "colab": {
      "provenance": []
    },
    "kernelspec": {
      "name": "python3",
      "display_name": "Python 3"
    },
    "language_info": {
      "name": "python"
    }
  },
  "cells": [
    {
      "cell_type": "code",
      "execution_count": 21,
      "metadata": {
        "colab": {
          "base_uri": "https://localhost:8080/"
        },
        "id": "E1jcPRrBNCiU",
        "outputId": "45040c39-6a4d-451d-d4a2-61c1c65bac19"
      },
      "outputs": [
        {
          "output_type": "stream",
          "name": "stdout",
          "text": [
            "Dataset Shape: (100, 3)\n",
            "   Experience_Years  Age         Salary\n",
            "0                 7   27   98430.929506\n",
            "1                20   33  166872.889064\n",
            "2                29   42  230287.751954\n",
            "3                15   59  192627.770421\n",
            "4                11   40  125406.143924\n"
          ]
        }
      ],
      "source": [
        "import numpy as np\n",
        "import pandas as pd\n",
        "import matplotlib.pyplot as plt\n",
        "\n",
        "# Set a random seed for reproducibility\n",
        "np.random.seed(42)\n",
        "\n",
        "# Generate synthetic data (years of experience, age, salary)\n",
        "n_samples = 100\n",
        "years_of_experience = np.random.randint(1, 30, size=n_samples)\n",
        "age = np.random.randint(20, 60, size=n_samples)\n",
        "\n",
        "# Generate salary based on some linear relationship\n",
        "salary = 5000 * years_of_experience + 2000 * age + np.random.normal(0, 5000, size=n_samples)  # Add some noise\n",
        "\n",
        "# Create DataFrame\n",
        "data = pd.DataFrame({\n",
        "    'Experience_Years': years_of_experience,\n",
        "    'Age': age,\n",
        "    'Salary': salary\n",
        "})\n",
        "\n",
        "# Show dataset shape and head\n",
        "print(\"Dataset Shape:\", data.shape)\n",
        "print(data.head())"
      ]
    },
    {
      "cell_type": "code",
      "source": [
        "# Initialize weights and biases\n",
        "input_size = 2  # 2 features (years_of_experience, age)\n",
        "output_size = 1  # 1 output (salary)\n",
        "\n",
        "# Randomly initialize weights and biases\n",
        "W = np.random.randn(input_size, output_size)\n",
        "b = np.random.randn(output_size)\n",
        "\n",
        "# Forward propagation\n",
        "def forward(X):\n",
        "    return np.dot(X, W) + b\n",
        "\n",
        "# Mean Absolute Error (MAE) Loss Function\n",
        "def mae(y_true, y_pred):\n",
        "    return np.mean(np.abs(y_true - y_pred))\n",
        "\n",
        "# Mean Squared Error (MSE) Loss Function\n",
        "def mse(y_true, y_pred):\n",
        "    return np.mean((y_true - y_pred) ** 2)"
      ],
      "metadata": {
        "id": "8UIvMszQNKHQ"
      },
      "execution_count": 22,
      "outputs": []
    },
    {
      "cell_type": "code",
      "source": [
        "# Gradient Descent\n",
        "def gradient_descent(X, y_true, learning_rate=0.01, epochs=1000):\n",
        "    global W, b\n",
        "\n",
        "    # Initialize a list to store the loss at each epoch\n",
        "    loss_history = []\n",
        "\n",
        "    # Training loop\n",
        "    for epoch in range(epochs):\n",
        "        # Forward pass\n",
        "        y_pred = forward(X)\n",
        "\n",
        "        # Compute loss (MSE for optimization)\n",
        "        loss = mse(y_true, y_pred)\n",
        "        loss_history.append(loss)\n",
        "\n",
        "        # Compute gradients\n",
        "        dW = -(2 / len(X)) * np.dot(X.T, (y_true - y_pred))\n",
        "        db = -(2 / len(X)) * np.sum(y_true - y_pred)\n",
        "\n",
        "        # Update weights and biases\n",
        "        W -= learning_rate * dW\n",
        "        b -= learning_rate * db\n",
        "\n",
        "        if epoch % 10 == 0:\n",
        "            print(f\"Epoch {epoch}, Loss: {loss}\")\n",
        "\n",
        "    return loss_history\n",
        "\n",
        "# Prepare the data\n",
        "X = data[['Experience_Years', 'Age']].values\n",
        "y = data['Salary'].values.reshape(-1, 1)\n",
        "\n",
        "# Normalize the input features (important for gradient descent)\n",
        "from sklearn.preprocessing import StandardScaler\n",
        "scaler = StandardScaler()\n",
        "X_scaled = scaler.fit_transform(X)\n",
        "print(\"Synthetic Design Matrix: \\n\",X_scaled[:5])\n",
        "\n",
        "# Train the model using gradient descent\n",
        "loss_history = gradient_descent(X_scaled, y, learning_rate=0.01, epochs=100)\n",
        "\n",
        "# Plot the loss curve\n",
        "plt.plot(loss_history)\n",
        "plt.xlabel('Epochs')\n",
        "plt.ylabel('Loss (MSE)')\n",
        "plt.title('Loss Curve')\n",
        "plt.show()"
      ],
      "metadata": {
        "colab": {
          "base_uri": "https://localhost:8080/",
          "height": 758
        },
        "id": "gX17pI0ENZVg",
        "outputId": "d78addd4-93bc-42ea-f56d-71ded5aec551"
      },
      "execution_count": 23,
      "outputs": [
        {
          "output_type": "stream",
          "name": "stdout",
          "text": [
            "Synthetic Design Matrix: \n",
            " [[-1.01947103 -1.12630425]\n",
            " [ 0.50038257 -0.62085732]\n",
            " [ 1.5525889   0.13731308]\n",
            " [-0.08417651  1.56941273]\n",
            " [-0.55182377 -0.03116923]]\n",
            "Epoch 0, Loss: 28068572688.2215\n",
            "Epoch 10, Loss: 18677700574.95133\n",
            "Epoch 20, Loss: 12433415487.250233\n",
            "Epoch 30, Loss: 8280619149.856681\n",
            "Epoch 40, Loss: 5518279755.638739\n",
            "Epoch 50, Loss: 3680517153.7144074\n",
            "Epoch 60, Loss: 2457661157.3171988\n",
            "Epoch 70, Loss: 1643833544.0156317\n",
            "Epoch 80, Loss: 1102133994.3505163\n",
            "Epoch 90, Loss: 741512737.6781732\n"
          ]
        },
        {
          "output_type": "display_data",
          "data": {
            "text/plain": [
              "<Figure size 640x480 with 1 Axes>"
            ],
            "image/png": "[encoded data removed]"
          },
          "metadata": {}
        }
      ]
    },
    {
      "cell_type": "code",
      "source": [
        "# Load a real-world dataset (example)\n",
        "# For demonstration, you can load a CSV (replace with your own dataset)\n",
        "data = pd.read_csv(\"Employee_Salary_Dataset.csv\")\n",
        "\n",
        "# Preprocess and scale data\n",
        "X_real = data[['Experience_Years', 'Age']].values\n",
        "y_real = data['Salary'].values.reshape(-1, 1)\n",
        "X_real_scaled = scaler.transform(X_real)\n",
        "print(\"Real Design Matrix: \\n\",X_real_scaled[:5])\n",
        "\n",
        "# Make predictions using the trained model\n",
        "y_real_pred = forward(X_real_scaled)\n",
        "\n",
        "# Evaluate the model using MAE and MSE\n",
        "print(\"MAE on Real Data:\", mae(y_real, y_real_pred))\n",
        "print(\"MSE on Real Data:\", mse(y_real, y_real_pred))"
      ],
      "metadata": {
        "colab": {
          "base_uri": "https://localhost:8080/"
        },
        "id": "OyGXaSzfNe4-",
        "outputId": "67dead70-bd0b-466d-dd55-c213ac8e50c6"
      },
      "execution_count": 24,
      "outputs": [
        {
          "output_type": "stream",
          "name": "stdout",
          "text": [
            "Real Design Matrix: \n",
            " [[-1.25329466 -1.04206309]\n",
            " [-1.72094192 -1.63175118]\n",
            " [-1.48711829 -1.46326887]\n",
            " [-1.6040301  -1.54751003]\n",
            " [-1.72094192 -1.9687158 ]]\n",
            "MAE on Real Data: 1982043.5038132956\n",
            "MSE on Real Data: 13349801597288.342\n"
          ]
        }
      ]
    },
    {
      "cell_type": "code",
      "source": [
        "# Activity 1 Question: How does normalization affect the feature values?\n",
        "# Answer: Normalization (e.g., StandardScaler) rescales feature values to have zero mean and unit variance.\n",
        "# This prevents features with larger magnitudes from dominating the learning process and helps gradient descent converge faster.\n",
        "\n",
        "# Activity 2 Question: Why does MSE penalize larger errors more than MAE?\n",
        "# Answer: MSE (Mean Squared Error) squares the errors, so larger errors contribute disproportionately more to the total cost.\n",
        "# MAE (Mean Absolute Error) takes the absolute difference, so the penalty is linear with the error's magnitude.\n",
        "# Thus, MSE is more sensitive to outliers than MAE.\n",
        "\n",
        "# Activity 3 Question: How does the learning rate affect convergence?\n",
        "# Answer: The learning rate controls the step size in gradient descent.\n",
        "# - Too small: Slow convergence, may get stuck in local minima or require many epochs.\n",
        "# - Too large: May overshoot the minimum, causing oscillations or divergence of the loss.\n",
        "# - Just right: Efficient convergence to the optimal solution.\n",
        "\n",
        "# Activity 4 Question: Why might the model perform differently on real vs. synthetic data?\n",
        "# Answer: Real data is often more complex, noisy, and may have different underlying distributions or feature relationships\n",
        "# than simplified synthetic data. Models trained on synthetic data might not capture these real-world nuances,\n",
        "# leading to poorer generalization and performance on real datasets. [cite: 1]\n",
        "\n",
        "# Overall Question 1: How does the choice of cost function (MSE vs. MAE) affect optimization?\n",
        "# Answer: - MSE: Differentiable, unique minimum (for linear regression), sensitive to outliers. Gradients are larger for larger errors.\n",
        "#          - MAE: Robust to outliers, gradient is constant (can be an issue with varying error magnitudes), not differentiable at zero.\n",
        "#          The choice influences how the optimizer prioritizes minimizing certain types of errors.\n",
        "\n",
        "# Overall Question 2: What challenges arise when scaling to multiple features?\n",
        "# Answer: - Curse of dimensionality: Data becomes sparse, requiring more data for robust learning.\n",
        "#          - Increased computational cost: More parameters and calculations.\n",
        "#          - Multicollinearity: Correlated features can make model coefficients unstable and hard to interpret.\n",
        "#          - Higher risk of overfitting: Model might learn noise from irrelevant features.\n",
        "#          - Feature scaling becomes more critical to ensure all features contribute appropriately.\n",
        "\n",
        "# Overall Question 3: How does gradient descent compare to scikit-learn's built-in linear regression?\n",
        "# Answer: - Gradient Descent (manual): Iterative, requires tuning (learning rate, epochs), good for understanding mechanics, flexible for other models.\n",
        "#          - Scikit-learn (`LinearRegression`): Often uses an analytical solution (Normal Equation/OLS) which is direct and non-iterative.\n",
        "#            It's highly optimized, robust, and simpler to implement for standard linear regression.\n",
        "#            Scikit-learn can be faster for datasets where OLS is feasible."
      ],
      "metadata": {
        "id": "gF3yTWebFJQN"
      },
      "execution_count": 25,
      "outputs": []
    }
  ]
}